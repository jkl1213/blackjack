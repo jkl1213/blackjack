{
 "cells": [
  {
   "cell_type": "code",
   "execution_count": 1,
   "metadata": {},
   "outputs": [],
   "source": [
    "import numpy as np\n",
    "import pandas as pd\n",
    "import random\n",
    "import matplotlib.pyplot as plt\n",
    "import seaborn as sns"
   ]
  },
  {
   "cell_type": "code",
   "execution_count": 2,
   "metadata": {},
   "outputs": [],
   "source": [
    "stacks = 50000\n",
    "players = 1\n",
    "num_decks = 1\n",
    "card_types = ['A',2,3,4,5,6,7,8,9,10,'J','Q','K']\n",
    "suits = ['C','D','H','S']"
   ]
  },
  {
   "cell_type": "code",
   "execution_count": 36,
   "metadata": {},
   "outputs": [
    {
     "data": {
      "text/plain": [
       "array([1, 2])"
      ]
     },
     "execution_count": 36,
     "metadata": {},
     "output_type": "execute_result"
    }
   ],
   "source": [
    "k = [1,2]\n",
    "new_deck = np.array(k)\n",
    "new_deck"
   ]
  },
  {
   "cell_type": "code",
   "execution_count": 5,
   "metadata": {},
   "outputs": [],
   "source": [
    "def make_decks(num_decks,shuffle=None):\n",
    "    card_types = ['A',2,3,4,5,6,7,8,9,10,'J','Q','K']\n",
    "    suits = ['C','D','H','S']\n",
    "    new_deck = []\n",
    "    idx = 0\n",
    "    for i in range(num_decks):\n",
    "        for j in suits:\n",
    "            for k in card_types:\n",
    "                new_deck.append([idx,j,k])\n",
    "                idx = idx + 1\n",
    "                \n",
    "    if shuffle == 1:\n",
    "        random.shuffle(new_deck)\n",
    "    return new_deck"
   ]
  },
  {
   "cell_type": "code",
   "execution_count": 71,
   "metadata": {},
   "outputs": [
    {
     "name": "stdout",
     "output_type": "stream",
     "text": [
      "False\n",
      "6\n",
      "True\n",
      "A\n",
      "False\n",
      "Q\n"
     ]
    }
   ],
   "source": [
    "\n",
    "deck = make_decks(1,shuffle=1)\n",
    "    #draw a hand\n",
    "deck, hand = draw_card(deck,2)\n",
    "    #draw flops\n",
    "deck, flop = draw_card(deck,3)\n",
    "    \n",
    "for i in get_values(flop)[0]:\n",
    "    print(i=='A')\n",
    "    print(i)\n"
   ]
  },
  {
   "cell_type": "code",
   "execution_count": 92,
   "metadata": {},
   "outputs": [
    {
     "data": {
      "text/plain": [
       "False"
      ]
     },
     "execution_count": 92,
     "metadata": {},
     "output_type": "execute_result"
    }
   ],
   "source": [
    "4 in [2,2]"
   ]
  },
  {
   "cell_type": "code",
   "execution_count": 123,
   "metadata": {},
   "outputs": [],
   "source": [
    "#determine simulate hand and five community cards, return yes if a quads happen \n",
    "def quads():\n",
    "    pocket_pair = 0\n",
    "    quads_by_flop = 0\n",
    "    quads_by_turn = 0\n",
    "    quads_by_river = 0\n",
    "    quad_count = [0,0]\n",
    "    \n",
    "    #make a deck\n",
    "    deck = make_decks(1,shuffle=0)\n",
    "    #draw a hand\n",
    "    deck, hand = draw_card(deck,2)\n",
    "    if get_values(hand)[0][0] == get_values(hand)[0][1]:\n",
    "        pocket_pair = 1\n",
    "        quad_count = [2,2]\n",
    "        pair = get_values(hand)[0][0]\n",
    "    else:\n",
    "        quad_count = [1,1]\n",
    "    #draw flops\n",
    "    deck, flop = draw_card(deck,3)\n",
    "    for i in get_values(flop)[0]:\n",
    "        if i == get_values(hand)[0][0]:\n",
    "            quad_count[0] += 1\n",
    "        if i == get_values(hand)[0][1]:\n",
    "            quad_count[1] += 1\n",
    "        if 4 in quad_count:\n",
    "            quads_by_flop = 1 \n",
    "            return pocket_pair, quads_by_flop, quads_by_turn, quads_by_river, True\n",
    "        else:\n",
    "            continue\n",
    "    #draw turn\n",
    "    deck, turn = draw_card(deck,1)\n",
    "    if get_values(turn)[0][0] == get_values(hand)[0][0]:\n",
    "        quad_count[0] += 1\n",
    "    if get_values(turn)[0][0] == get_values(hand)[0][1]:\n",
    "        quad_count[1] += 1\n",
    "    if 4 in quad_count:\n",
    "        quads_by_turn = 1 \n",
    "        return pocket_pair, quads_by_flop, quads_by_turn, quads_by_river, True\n",
    "\n",
    "    #draw river\n",
    "    deck, river = draw_card(deck,1)\n",
    "    if get_values(river)[0][0] == get_values(hand)[0][0]:\n",
    "        quad_count[0] += 1\n",
    "    if get_values(river)[0][0] == get_values(hand)[0][1]:\n",
    "        quad_count[1] += 1\n",
    "    if 4 in quad_count:\n",
    "        quads_by_river = 1 \n",
    "        return pocket_pair, quads_by_flop, quads_by_turn, quads_by_river, True\n",
    "    else:\n",
    "        return pocket_pair, quads_by_flop, quads_by_turn, quads_by_river, False\n",
    "    \n"
   ]
  },
  {
   "cell_type": "code",
   "execution_count": 152,
   "metadata": {},
   "outputs": [
    {
     "name": "stdout",
     "output_type": "stream",
     "text": [
      "pocket pair: 0.058675\n",
      "quads_by_flop: 0.00025\n",
      "quads_by_turn: 0.000505\n",
      "quads_by_river: 0.00074\n",
      "overall: 0.001495\n"
     ]
    }
   ],
   "source": [
    "record = []\n",
    "for i in range(200000):\n",
    "    record.append(quads())\n",
    "print(\"pocket pair:\",np.mean(np.array(record)[:,0]))\n",
    "print(\"quads_by_flop:\",np.mean(np.array(record)[:,1]))\n",
    "print(\"quads_by_turn:\",np.mean(np.array(record)[:,2]))\n",
    "print(\"quads_by_river:\",np.mean(np.array(record)[:,3]))\n",
    "print(\"overall:\",np.mean(np.array(record)[:,4]))"
   ]
  },
  {
   "cell_type": "code",
   "execution_count": 153,
   "metadata": {},
   "outputs": [
    {
     "name": "stdout",
     "output_type": "stream",
     "text": [
      "quad given pair: 0.007328504473796336\n",
      "number of pair: 11735\n",
      "number of quad given pair: 86\n",
      "quad given no pair: 0.0011313839534698431\n"
     ]
    }
   ],
   "source": [
    "mask = np.array(record)[:,0]==1\n",
    "mask1 = np.array(record)[:,0]==0\n",
    "print(\"quad given pair:\",np.mean(np.array(record)[mask][:,4]))\n",
    "print(\"number of pair:\",np.count_nonzero(np.array(record)[:,0]==1))\n",
    "print(\"number of quad given pair:\",np.count_nonzero(np.array(record)[mask][:,4]==1))\n",
    "print(\"quad given no pair:\",np.mean(np.array(record)[mask1][:,4]))"
   ]
  },
  {
   "cell_type": "code",
   "execution_count": 10,
   "metadata": {},
   "outputs": [
    {
     "name": "stdout",
     "output_type": "stream",
     "text": [
      "[[48, 'S', 10], [10, 'C', 'J'], [35, 'H', 10]]\n"
     ]
    }
   ],
   "source": [
    "#draw a card from deck\n",
    "def draw_card(deck,n):\n",
    "    cards = []\n",
    "    for i in range(n):\n",
    "        #print('len(deck):',len(deck))\n",
    "        cards_idx = list(np.array(deck)[:,0])\n",
    "        #print('cards_idx:',cards_idx)\n",
    "        random_card_idx = int(random.choice(cards_idx))\n",
    "        #print('random_card_idx:',random_card_idx)\n",
    "        random_card = deck[cards_idx.index(str(random_card_idx))]\n",
    "        deck.remove(random_card)\n",
    "        cards.append(random_card)\n",
    "    return deck, cards\n",
    "\n",
    "a_deck = make_decks(1)\n",
    "print(draw_card(a_deck,3)[1])\n",
    "#print(len(a_deck))"
   ]
  },
  {
   "cell_type": "code",
   "execution_count": 11,
   "metadata": {},
   "outputs": [
    {
     "data": {
      "text/plain": [
       "(array(['5', 'A'], dtype='<U1'), 16)"
      ]
     },
     "execution_count": 11,
     "metadata": {},
     "output_type": "execute_result"
    }
   ],
   "source": [
    "def get_values(cards):\n",
    "    cards_values_arr = np.array(cards)[:,2]\n",
    "    total_value = 0\n",
    "    ace = 0\n",
    "    for i in cards_values_arr:\n",
    "        if i in ['J','Q','K']:\n",
    "            total_value += 10\n",
    "        elif i in ['2','3','4','5','6','7','8','9','10']:\n",
    "            total_value += int(i)\n",
    "        else:\n",
    "            ace += 1\n",
    "            \n",
    "    for i in range(ace):\n",
    "        if (total_value + 11) > 21:\n",
    "            total_value += 1\n",
    "        else:\n",
    "            total_value +=11\n",
    "\n",
    "    return cards_values_arr, total_value\n",
    "\n",
    "a_deck = make_decks(1)\n",
    "get_values([['3','D','5'],['4','D','A']])"
   ]
  },
  {
   "cell_type": "code",
   "execution_count": 12,
   "metadata": {},
   "outputs": [],
   "source": [
    "def dealers_turn(deck, dealers_card):\n",
    "    \n",
    "    while get_values(dealers_card)[1] < 17:\n",
    "        deck, dealers_additional_card = draw_card(deck,1)\n",
    "        dealers_card.append(dealers_additional_card[0])\n",
    "    \n",
    "    return deck, dealers_card\n",
    "\n",
    "def players_turn(deck, players_card):\n",
    "    \n",
    "    deck, players_additional_card = draw_card(deck,1)\n",
    "    players_card.append(players_additional_card[0])\n",
    "    \n",
    "    return deck, players_card"
   ]
  },
  {
   "cell_type": "code",
   "execution_count": 308,
   "metadata": {},
   "outputs": [
    {
     "data": {
      "text/plain": [
       "[[26, 'H', 'A']]"
      ]
     },
     "execution_count": 308,
     "metadata": {},
     "output_type": "execute_result"
    }
   ],
   "source": [
    "deck = make_decks(1)\n",
    "deck, dealers_card = draw_card(deck,1)\n",
    "dealers_card"
   ]
  },
  {
   "cell_type": "code",
   "execution_count": 529,
   "metadata": {},
   "outputs": [
    {
     "name": "stdout",
     "output_type": "stream",
     "text": [
      "dealers_card:  ['3'] total_value:  3\n",
      "dealers_card:  ['A' '6'] total_value:  17\n"
     ]
    }
   ],
   "source": [
    "#starting round\n",
    "deck = make_decks(1)\n",
    "deck, dealers_card = draw_card(deck,1)\n",
    "deck, players_card = draw_card(deck,2)\n",
    "print(\"dealers_card: \", get_values(dealers_card)[0], \"total_value: \",get_values(dealers_card)[1])\n",
    "print(\"dealers_card: \", get_values(players_card)[0], \"total_value: \",get_values(players_card)[1])"
   ]
  },
  {
   "cell_type": "code",
   "execution_count": 530,
   "metadata": {},
   "outputs": [
    {
     "name": "stdout",
     "output_type": "stream",
     "text": [
      "[[39, 'S', 'A'], [18, 'D', 6], [23, 'D', 'J']]\n",
      "17\n"
     ]
    }
   ],
   "source": [
    "deck, a = players_turn(deck, players_card)\n",
    "print(a)\n",
    "print(get_values(a)[1])"
   ]
  },
  {
   "cell_type": "code",
   "execution_count": null,
   "metadata": {},
   "outputs": [],
   "source": []
  },
  {
   "cell_type": "code",
   "execution_count": 557,
   "metadata": {},
   "outputs": [
    {
     "name": "stdout",
     "output_type": "stream",
     "text": [
      "win percentage:  0.4131\n",
      "lose percentage:  0.4887\n",
      "draw percentage:  0.0982\n"
     ]
    }
   ],
   "source": [
    "#simulating blackjack\n",
    "import random\n",
    "win = 0\n",
    "lose = 0\n",
    "draw = 0\n",
    "randomness = 0\n",
    "\n",
    "for i in range(1000):\n",
    "    \n",
    "    \n",
    "    #starting round\n",
    "    deck = make_decks(1)\n",
    "    deck, dealers_card = draw_card(deck,1)\n",
    "    deck, players_card = draw_card(deck,2)\n",
    "    #print(\"dealers_card: \", get_values(dealers_card)[0], \"total_value: \",get_values(dealers_card)[1])\n",
    "    #print(\"players_card: \", get_values(players_card)[0], \"total_value: \",get_values(players_card)[1])\n",
    "    \n",
    "    if randomness == 0:\n",
    "    #always hit until 17 or higher\n",
    "        while get_values(players_card)[1] < 17:\n",
    "            deck, players_card = players_turn(deck, players_card)\n",
    "    \n",
    "    elif randomness == 1:\n",
    "        #hit once at random\n",
    "        if random.random() >= 0.5:\n",
    "            deck, players_card = players_turn(deck, players_card)\n",
    "    \n",
    "    elif randomness == 2:\n",
    "        #hit until hand at least 12\n",
    "        while get_values(players_card)[1] < 12:\n",
    "            deck, players_card = players_turn(deck, players_card)\n",
    "            \n",
    "    player = get_values(players_card)[1]\n",
    "    #print(\"players_total: \",player)\n",
    "    #dealers turn\n",
    "    deck, a = dealers_turn(deck, dealers_card)\n",
    "    dealer = get_values(dealers_card)[1]\n",
    "    #print(\"dealers_total: \",dealer)\n",
    "    \n",
    "    if player > 21:\n",
    "        lose += 1\n",
    "    elif dealer > 21:\n",
    "        win += 1\n",
    "    elif player < dealer:\n",
    "        lose += 1\n",
    "    elif player > dealer:\n",
    "        win += 1\n",
    "    elif player == dealer:\n",
    "        draw += 1\n",
    "    \n",
    "print(\"win percentage: \", win/(win+lose+draw))\n",
    "print(\"lose percentage: \", lose/(win+lose+draw))\n",
    "print(\"draw percentage: \", draw/(win+lose+draw))"
   ]
  },
  {
   "cell_type": "code",
   "execution_count": 598,
   "metadata": {},
   "outputs": [
    {
     "data": {
      "text/plain": [
       "-1"
      ]
     },
     "execution_count": 598,
     "metadata": {},
     "output_type": "execute_result"
    }
   ],
   "source": [
    "#get the effect of house advantage given some cards and current house advantage\n",
    "def get_house_advantage(current_advantage, cards):\n",
    "    cards_values_arr = np.array(cards)[:,2]\n",
    "    #print(cards_values_arr)\n",
    "    for i in cards_values_arr:\n",
    "        #print(i)\n",
    "        if i in ['2','3','4','5','6']:\n",
    "            current_advantage += 1\n",
    "        elif i in ['10','J','Q','K','A']:\n",
    "            current_advantage -= 1\n",
    "        else:\n",
    "            current_advantage += 0\n",
    "            \n",
    "    return current_advantage\n",
    "\n",
    "current_advantage = 0\n",
    "deck = make_decks(1)\n",
    "deck, dealers_card = draw_card(deck,2)\n",
    "get_house_advantage(current_advantage, dealers_card)"
   ]
  },
  {
   "cell_type": "code",
   "execution_count": 576,
   "metadata": {},
   "outputs": [],
   "source": [
    "def dealers_turn_(current_advantage, deck, dealers_card):\n",
    "    \n",
    "    while get_values(dealers_card)[1] < 17:\n",
    "        deck, dealers_additional_card = draw_card(deck,1)\n",
    "        current_advantage = get_house_advantage(current_advantage, dealers_additional_card)\n",
    "        dealers_card.append(dealers_additional_card[0])\n",
    "    \n",
    "    return deck, dealers_card, current_advantage\n",
    "\n",
    "def players_turn_(current_advantage, deck, players_card):\n",
    "    \n",
    "    deck, players_additional_card = draw_card(deck,1)\n",
    "    players_card.append(players_additional_card[0])\n",
    "    current_advantage = get_house_advantage(current_advantage, dealers_additional_card)\n",
    "    return deck, players_card, current_advantage"
   ]
  },
  {
   "cell_type": "code",
   "execution_count": 611,
   "metadata": {},
   "outputs": [
    {
     "name": "stdout",
     "output_type": "stream",
     "text": [
      "current house advantage: -1\n",
      "current house advantage: -1\n",
      "current house advantage: 1\n",
      "current house advantage: 2\n",
      "current house advantage: 3\n",
      "current house advantage: 5\n",
      "current house advantage: 8\n",
      "current house advantage: 9\n",
      "8 games played\n",
      "results: ['win', 'win', 'win', 'lose', 'lose', 'draw', 'lose', 'win']\n",
      "win percentage:  0.5\n",
      "lose percentage:  0.375\n",
      "draw percentage:  0.125\n"
     ]
    }
   ],
   "source": [
    "#simulating blackjack with counting\n",
    "import random\n",
    "win = 0\n",
    "lose = 0\n",
    "draw = 0\n",
    "randomness = 0\n",
    "deck = make_decks(1)\n",
    "\n",
    "game = 0\n",
    "house_advantage = 0\n",
    "results = []\n",
    "while len(deck) > 10:\n",
    "    \n",
    "    game += 1\n",
    "    #starting round\n",
    "    \n",
    "    deck, dealers_card = draw_card(deck,1)\n",
    "    \n",
    "    house_advantage = get_house_advantage(house_advantage,dealers_card)\n",
    "    \n",
    "    deck, players_card = draw_card(deck,2)\n",
    "    \n",
    "    house_advantage = get_house_advantage(house_advantage,players_card)\n",
    "    \n",
    "    #print(\"current house advantage:\",house_advantage)\n",
    "    #print(\"dealers_card: \", get_values(dealers_card)[0], \"total_value: \",get_values(dealers_card)[1])\n",
    "    #print(\"players_card: \", get_values(players_card)[0], \"total_value: \",get_values(players_card)[1])\n",
    "    \n",
    "    if randomness == 0:\n",
    "    #always hit until 17 or higher\n",
    "        while get_values(players_card)[1] < 17:\n",
    "            deck, players_card, house_advantage = players_turn_(house_advantage, deck, players_card)\n",
    "    \n",
    "    elif randomness == 1:\n",
    "        #hit once at random\n",
    "        if random.random() >= 0.5:\n",
    "            deck, players_card, house_advantage = players_turn_(house_advantage, deck, players_card)\n",
    "    \n",
    "    elif randomness == 2:\n",
    "        #hit until hand at least 12\n",
    "        while get_values(players_card)[1] < 12:\n",
    "            deck, players_card, house_advantage = players_turn_(house_advantage, deck, players_card)\n",
    "    \n",
    "        \n",
    "    player = get_values(players_card)[1]\n",
    "    #print(\"players_total: \",player)\n",
    "    #dealers turn\n",
    "    deck, a, house_advantage = dealers_turn_(house_advantage,deck, dealers_card)\n",
    "    dealer = get_values(dealers_card)[1]\n",
    "    #print(\"dealers_total: \",dealer)\n",
    "    \n",
    "    if player > 21:\n",
    "        lose += 1\n",
    "        results.append('lose')\n",
    "    elif dealer > 21:\n",
    "        win += 1\n",
    "        results.append('win')\n",
    "    elif player < dealer:\n",
    "        lose += 1\n",
    "        results.append('lose')\n",
    "    elif player > dealer:\n",
    "        win += 1\n",
    "        results.append('win')\n",
    "    elif player == dealer:\n",
    "        draw += 1\n",
    "        results.append('draw')\n",
    "        \n",
    "    print(\"current house advantage:\",house_advantage)\n",
    "    \n",
    "print(game, \"games played\")\n",
    "print(\"results:\", results)\n",
    "print(\"win percentage: \", win/(win+lose+draw))\n",
    "print(\"lose percentage: \", lose/(win+lose+draw))\n",
    "print(\"draw percentage: \", draw/(win+lose+draw))"
   ]
  },
  {
   "cell_type": "code",
   "execution_count": 858,
   "metadata": {},
   "outputs": [],
   "source": [
    "#collect data of house advantage and results to see if there's any correlation\n",
    "scores = []\n",
    "results = []\n",
    "for i in range(1000):\n",
    "    deck = make_decks(1)\n",
    "    game = 0\n",
    "    house_advantage = 0\n",
    "    while len(deck) > 10:\n",
    "        game += 1\n",
    "        #starting round\n",
    "    \n",
    "        deck, dealers_card = draw_card(deck,1)\n",
    "    \n",
    "        house_advantage = get_house_advantage(house_advantage,dealers_card)\n",
    "    \n",
    "        deck, players_card = draw_card(deck,2)\n",
    "    \n",
    "        house_advantage = get_house_advantage(house_advantage,players_card)\n",
    "    \n",
    "    #print(\"current house advantage:\",house_advantage)\n",
    "    #print(\"dealers_card: \", get_values(dealers_card)[0], \"total_value: \",get_values(dealers_card)[1])\n",
    "    #print(\"players_card: \", get_values(players_card)[0], \"total_value: \",get_values(players_card)[1])\n",
    "    \n",
    "        if randomness == 0:\n",
    "    #always hit until 17 or higher\n",
    "            while get_values(players_card)[1] < 17:\n",
    "                deck, players_card, house_advantage = players_turn_(house_advantage, deck, players_card)\n",
    "    \n",
    "        elif randomness == 1:\n",
    "            #hit once at random\n",
    "            if random.random() >= 0.5:\n",
    "                deck, players_card, house_advantage = players_turn_(house_advantage, deck, players_card)\n",
    "    \n",
    "        elif randomness == 2:\n",
    "            #hit until hand at least 12\n",
    "            while get_values(players_card)[1] < 12:\n",
    "                deck, players_card, house_advantage = players_turn_(house_advantage, deck, players_card)\n",
    "            \n",
    "        player = get_values(players_card)[1]\n",
    "    #print(\"players_total: \",player)\n",
    "    #dealers turn\n",
    "        deck, a, house_advantage = dealers_turn_(house_advantage,deck, dealers_card)\n",
    "        dealer = get_values(dealers_card)[1]\n",
    "    #print(\"dealers_total: \",dealer)\n",
    "    \n",
    "        if player > 21:\n",
    "            lose += 1\n",
    "            results.append(-1)\n",
    "        elif dealer > 21:\n",
    "            win += 1\n",
    "            results.append(1)\n",
    "        elif player < dealer:\n",
    "            lose += 1\n",
    "            results.append(-1)\n",
    "        elif player > dealer:\n",
    "            win += 1\n",
    "            results.append(1)\n",
    "        elif player == dealer:\n",
    "            draw += 1\n",
    "            results.append(0)\n",
    "        scores.append(house_advantage)\n",
    "\n"
   ]
  },
  {
   "cell_type": "code",
   "execution_count": 685,
   "metadata": {},
   "outputs": [
    {
     "name": "stdout",
     "output_type": "stream",
     "text": [
      "[0, 1, 1, 2, 2, 1, 4, 5, 0, 0]\n",
      "[-1, -1, 1, 1, 1, 1, 1, -1, 1, -1]\n",
      "7676\n",
      "7676\n"
     ]
    }
   ],
   "source": [
    "print(scores[:10])\n",
    "print(results[:10])\n",
    "print(len(results))\n",
    "print(len(scores))"
   ]
  },
  {
   "cell_type": "code",
   "execution_count": 859,
   "metadata": {},
   "outputs": [],
   "source": [
    "\n",
    "data = [list(a) for a in zip(scores, results)]\n"
   ]
  },
  {
   "cell_type": "code",
   "execution_count": 860,
   "metadata": {},
   "outputs": [
    {
     "name": "stdout",
     "output_type": "stream",
     "text": [
      "3.189137985475213 4.122465531224655 3.3745364647713227\n"
     ]
    }
   ],
   "source": [
    "df = pd.DataFrame(np.array(data),columns=['Scores','Results'],dtype=np.int8)\n",
    "df1 = df[df['Results']==1]\n",
    "df2 = df[df['Results']==-1]\n",
    "df3 = df[df['Results']==0]\n",
    "print(df1['Scores'].mean(),df2['Scores'].mean(),df3['Scores'].mean())"
   ]
  },
  {
   "cell_type": "code",
   "execution_count": 732,
   "metadata": {},
   "outputs": [
    {
     "data": {
      "text/html": [
       "<div>\n",
       "<style scoped>\n",
       "    .dataframe tbody tr th:only-of-type {\n",
       "        vertical-align: middle;\n",
       "    }\n",
       "\n",
       "    .dataframe tbody tr th {\n",
       "        vertical-align: top;\n",
       "    }\n",
       "\n",
       "    .dataframe thead th {\n",
       "        text-align: right;\n",
       "    }\n",
       "</style>\n",
       "<table border=\"1\" class=\"dataframe\">\n",
       "  <thead>\n",
       "    <tr style=\"text-align: right;\">\n",
       "      <th></th>\n",
       "      <th>Scores</th>\n",
       "      <th>Results</th>\n",
       "    </tr>\n",
       "  </thead>\n",
       "  <tbody>\n",
       "    <tr>\n",
       "      <td>count</td>\n",
       "      <td>746.0</td>\n",
       "      <td>746.000000</td>\n",
       "    </tr>\n",
       "    <tr>\n",
       "      <td>mean</td>\n",
       "      <td>3.0</td>\n",
       "      <td>-0.083110</td>\n",
       "    </tr>\n",
       "    <tr>\n",
       "      <td>std</td>\n",
       "      <td>0.0</td>\n",
       "      <td>0.938975</td>\n",
       "    </tr>\n",
       "    <tr>\n",
       "      <td>min</td>\n",
       "      <td>3.0</td>\n",
       "      <td>-1.000000</td>\n",
       "    </tr>\n",
       "    <tr>\n",
       "      <td>25%</td>\n",
       "      <td>3.0</td>\n",
       "      <td>-1.000000</td>\n",
       "    </tr>\n",
       "    <tr>\n",
       "      <td>50%</td>\n",
       "      <td>3.0</td>\n",
       "      <td>0.000000</td>\n",
       "    </tr>\n",
       "    <tr>\n",
       "      <td>75%</td>\n",
       "      <td>3.0</td>\n",
       "      <td>1.000000</td>\n",
       "    </tr>\n",
       "    <tr>\n",
       "      <td>max</td>\n",
       "      <td>3.0</td>\n",
       "      <td>1.000000</td>\n",
       "    </tr>\n",
       "  </tbody>\n",
       "</table>\n",
       "</div>"
      ],
      "text/plain": [
       "       Scores     Results\n",
       "count   746.0  746.000000\n",
       "mean      3.0   -0.083110\n",
       "std       0.0    0.938975\n",
       "min       3.0   -1.000000\n",
       "25%       3.0   -1.000000\n",
       "50%       3.0    0.000000\n",
       "75%       3.0    1.000000\n",
       "max       3.0    1.000000"
      ]
     },
     "execution_count": 732,
     "metadata": {},
     "output_type": "execute_result"
    }
   ],
   "source": [
    "#you win more than lose when the score falls below 0\n",
    "df4 = df[df['Scores']==3]\n",
    "df4.describe()"
   ]
  },
  {
   "cell_type": "code",
   "execution_count": 714,
   "metadata": {},
   "outputs": [
    {
     "data": {
      "text/html": [
       "<div>\n",
       "<style scoped>\n",
       "    .dataframe tbody tr th:only-of-type {\n",
       "        vertical-align: middle;\n",
       "    }\n",
       "\n",
       "    .dataframe tbody tr th {\n",
       "        vertical-align: top;\n",
       "    }\n",
       "\n",
       "    .dataframe thead th {\n",
       "        text-align: right;\n",
       "    }\n",
       "</style>\n",
       "<table border=\"1\" class=\"dataframe\">\n",
       "  <thead>\n",
       "    <tr style=\"text-align: right;\">\n",
       "      <th></th>\n",
       "      <th>Scores</th>\n",
       "      <th>Results</th>\n",
       "    </tr>\n",
       "  </thead>\n",
       "  <tbody>\n",
       "    <tr>\n",
       "      <td>count</td>\n",
       "      <td>7676.000000</td>\n",
       "      <td>7676.000000</td>\n",
       "    </tr>\n",
       "    <tr>\n",
       "      <td>mean</td>\n",
       "      <td>3.928478</td>\n",
       "      <td>-0.094581</td>\n",
       "    </tr>\n",
       "    <tr>\n",
       "      <td>std</td>\n",
       "      <td>3.993541</td>\n",
       "      <td>0.940811</td>\n",
       "    </tr>\n",
       "    <tr>\n",
       "      <td>min</td>\n",
       "      <td>-9.000000</td>\n",
       "      <td>-1.000000</td>\n",
       "    </tr>\n",
       "    <tr>\n",
       "      <td>25%</td>\n",
       "      <td>1.000000</td>\n",
       "      <td>-1.000000</td>\n",
       "    </tr>\n",
       "    <tr>\n",
       "      <td>50%</td>\n",
       "      <td>4.000000</td>\n",
       "      <td>0.000000</td>\n",
       "    </tr>\n",
       "    <tr>\n",
       "      <td>75%</td>\n",
       "      <td>7.000000</td>\n",
       "      <td>1.000000</td>\n",
       "    </tr>\n",
       "    <tr>\n",
       "      <td>max</td>\n",
       "      <td>19.000000</td>\n",
       "      <td>1.000000</td>\n",
       "    </tr>\n",
       "  </tbody>\n",
       "</table>\n",
       "</div>"
      ],
      "text/plain": [
       "            Scores      Results\n",
       "count  7676.000000  7676.000000\n",
       "mean      3.928478    -0.094581\n",
       "std       3.993541     0.940811\n",
       "min      -9.000000    -1.000000\n",
       "25%       1.000000    -1.000000\n",
       "50%       4.000000     0.000000\n",
       "75%       7.000000     1.000000\n",
       "max      19.000000     1.000000"
      ]
     },
     "execution_count": 714,
     "metadata": {},
     "output_type": "execute_result"
    }
   ],
   "source": [
    "df.describe()"
   ]
  },
  {
   "cell_type": "code",
   "execution_count": 861,
   "metadata": {},
   "outputs": [
    {
     "data": {
      "image/png": "[encoded data removed]",
      "text/plain": [
       "<Figure size 432x288 with 1 Axes>"
      ]
     },
     "metadata": {
      "needs_background": "light"
     },
     "output_type": "display_data"
    }
   ],
   "source": [
    "%matplotlib inline\n",
    "import matplotlib.pyplot as plt\n",
    "\n",
    "x = []\n",
    "y = []\n",
    "\n",
    "for i in range(-9,20):\n",
    "    x.append(i)\n",
    "    y.append(df[df['Scores']==i]['Results'].mean())\n",
    "\n",
    "plt.plot(x,y,'-ok')\n",
    "plt.xlabel('Scores') \n",
    "plt.ylabel('Mean results');"
   ]
  },
  {
   "cell_type": "code",
   "execution_count": 862,
   "metadata": {},
   "outputs": [
    {
     "data": {
      "text/plain": [
       "(array([  28.,  391.,  727., 1952., 1474., 1766.,  960.,  255.,  113.,\n",
       "           9.]),\n",
       " array([-8. , -5.4, -2.8, -0.2,  2.4,  5. ,  7.6, 10.2, 12.8, 15.4, 18. ]),\n",
       " <a list of 10 Patch objects>)"
      ]
     },
     "execution_count": 862,
     "metadata": {},
     "output_type": "execute_result"
    },
    {
     "data": {
      "image/png": "[encoded data removed]",
      "text/plain": [
       "<Figure size 432x288 with 1 Axes>"
      ]
     },
     "metadata": {
      "needs_background": "light"
     },
     "output_type": "display_data"
    }
   ],
   "source": [
    "plt.hist(df['Scores'])\n"
   ]
  },
  {
   "cell_type": "code",
   "execution_count": 856,
   "metadata": {},
   "outputs": [],
   "source": [
    "#trying to use counting to win the game\n",
    "scores = []\n",
    "results = []\n",
    "predict = []\n",
    "money = 100\n",
    "change_money = []\n",
    "profit_per_round = []\n",
    "for i in range(1000):\n",
    "    deck = make_decks(1)\n",
    "    game = 0\n",
    "    house_advantage = 0\n",
    "    money_start = money\n",
    "    while len(deck) > 10:\n",
    "        game += 1\n",
    "        #starting round\n",
    "        b = 0\n",
    "        deck, dealers_card = draw_card(deck,1)\n",
    "    \n",
    "        house_advantage = get_house_advantage(house_advantage,dealers_card)\n",
    "    \n",
    "        deck, players_card = draw_card(deck,2)\n",
    "    \n",
    "        house_advantage = get_house_advantage(house_advantage,players_card)\n",
    "        \n",
    "        if house_advantage < 0:\n",
    "            predict.append(1)\n",
    "            b = 1\n",
    "            bet = 10\n",
    "        else:\n",
    "            predict.append(-1)\n",
    "            \n",
    "    #print(\"current house advantage:\",house_advantage)\n",
    "    #print(\"dealers_card: \", get_values(dealers_card)[0], \"total_value: \",get_values(dealers_card)[1])\n",
    "    #print(\"players_card: \", get_values(players_card)[0], \"total_value: \",get_values(players_card)[1])\n",
    "    \n",
    "        if randomness == 0:\n",
    "    #always hit until 17 or higher\n",
    "            while get_values(players_card)[1] < 17:\n",
    "                deck, players_card, house_advantage = players_turn_(house_advantage, deck, players_card)\n",
    "    \n",
    "        elif randomness == 1:\n",
    "            #hit once at random\n",
    "            if random.random() >= 0.5:\n",
    "                deck, players_card, house_advantage = players_turn_(house_advantage, deck, players_card)\n",
    "    \n",
    "        elif randomness == 2:\n",
    "            #hit until hand at least 12\n",
    "            while get_values(players_card)[1] < 12:\n",
    "                deck, players_card, house_advantage = players_turn_(house_advantage, deck, players_card)\n",
    "        \n",
    "            \n",
    "        player = get_values(players_card)[1]\n",
    "    #print(\"players_total: \",player)\n",
    "    #dealers turn\n",
    "        deck, a, house_advantage = dealers_turn_(house_advantage,deck, dealers_card)\n",
    "        dealer = get_values(dealers_card)[1]\n",
    "    #print(\"dealers_total: \",dealer)\n",
    "    \n",
    "        if player > 21:\n",
    "            lose += 1\n",
    "            results.append(-1)\n",
    "            #results of bet if any\n",
    "            if b == 1:\n",
    "                money = money - bet*2\n",
    "\n",
    "        elif dealer > 21:\n",
    "            win += 1\n",
    "            results.append(1)\n",
    "            if b == 1:\n",
    "                money = money + bet*2\n",
    "\n",
    "        elif player < dealer:\n",
    "            lose += 1\n",
    "            results.append(-1)\n",
    "            if b == 1:\n",
    "                money = money - bet*2\n",
    "\n",
    "        elif player > dealer:\n",
    "            win += 1\n",
    "            results.append(1)\n",
    "            if b == 1:\n",
    "                money = money + bet*2\n",
    "\n",
    "        elif player == dealer:\n",
    "            draw += 1\n",
    "            results.append(0)\n",
    "            \n",
    "        scores.append(house_advantage)\n",
    "        change_money.append(money)\n",
    "    money_stop = money\n",
    "    profit_per_round.append(money_stop-money_start)"
   ]
  },
  {
   "cell_type": "code",
   "execution_count": 857,
   "metadata": {},
   "outputs": [
    {
     "name": "stdout",
     "output_type": "stream",
     "text": [
      "profit per round: 0.5\n"
     ]
    },
    {
     "data": {
      "image/png": "[encoded data removed]",
      "text/plain": [
       "<Figure size 432x288 with 1 Axes>"
      ]
     },
     "metadata": {
      "needs_background": "light"
     },
     "output_type": "display_data"
    }
   ],
   "source": [
    "plt.plot(change_money)\n",
    "print(\"profit per round:\",np.mean(np.array(profit_per_round)))\n",
    "plt.xlabel('Blackjack played') \n",
    "plt.ylabel('Money');"
   ]
  },
  {
   "cell_type": "code",
   "execution_count": 781,
   "metadata": {},
   "outputs": [
    {
     "data": {
      "text/plain": [
       "0.5488840892728581"
      ]
     },
     "execution_count": 781,
     "metadata": {},
     "output_type": "execute_result"
    }
   ],
   "source": [
    "#our probability of guessing the right outcome given house advantage with counting \n",
    "#this is excluding all the draws\n",
    "predict = np.array(predict)\n",
    "results = np.array(results)\n",
    "\n",
    "guess = predict[results!=0]==results[results!=0]\n",
    "np.mean(guess)\n"
   ]
  },
  {
   "cell_type": "code",
   "execution_count": 66,
   "metadata": {},
   "outputs": [],
   "source": [
    "# This function lists out all permutations of ace values in the\n",
    "# array sum_array.\n",
    "# For example, if you have 2 aces, there are 4 permutations:\n",
    "#     [[1,1], [1,11], [11,1], [11,11]]\n",
    "# These permutations lead to 3 unique sums: [2, 12, 22]\n",
    "# Of these 3, only 2 are <=21 so they are returned: [2, 12]\n",
    "def get_ace_values(temp_list):\n",
    "    sum_array = np.zeros((2**len(temp_list), len(temp_list)))\n",
    "    # This loop gets the permutations\n",
    "    for i in range(len(temp_list)):\n",
    "        n = len(temp_list) - i\n",
    "        half_len = int(2**n * 0.5)\n",
    "        for rep in range(int(sum_array.shape[0]/half_len/2)):\n",
    "            sum_array[rep*2**n : rep*2**n+half_len, i]=1\n",
    "            sum_array[rep*2**n+half_len : rep*2**n+half_len*2, i]=11\n",
    "    # Only return values that are valid (<=21)\n",
    "    return list(set([int(s) for s in np.sum(sum_array, axis=1)\\\n",
    "                     if s<=21]))\n",
    "# Convert num_aces, an int to a list of lists\n",
    "# For example if num_aces=2, the output should be [[1,11],[1,11]]\n",
    "# I require this format for the get_ace_values function\n",
    "def ace_values(num_aces):\n",
    "    temp_list = []\n",
    "    for i in range(num_aces):\n",
    "        temp_list.append([1,11])\n",
    "    return get_ace_values(temp_list)\n"
   ]
  },
  {
   "cell_type": "code",
   "execution_count": 11,
   "metadata": {},
   "outputs": [],
   "source": [
    "# Total up value of hand\n",
    "def total_up(hand):\n",
    "    aces = 0\n",
    "    total = 0\n",
    "    \n",
    "    for card in hand:\n",
    "        if card != 'A':\n",
    "            total += card\n",
    "        else:\n",
    "            aces += 1\n",
    "    \n",
    "    # Call function ace_values to produce list of possible values\n",
    "    # for aces in hand\n",
    "    ace_value_list = ace_values(aces)\n",
    "    final_totals = [i+total for i in ace_value_list if i+total<=21]\n",
    "    \n",
    "    if final_totals == []:\n",
    "        return min(ace_value_list) + total\n",
    "    else:\n",
    "        return max(final_totals)"
   ]
  },
  {
   "cell_type": "code",
   "execution_count": 12,
   "metadata": {},
   "outputs": [],
   "source": []
  },
  {
   "cell_type": "code",
   "execution_count": 13,
   "metadata": {},
   "outputs": [],
   "source": [
    "for stack in range(stacks):\n",
    "    blackjack = set(['A',10])\n",
    "    dealer_cards = make_decks(num_decks, card_types)\n",
    "    while len(dealer_cards) > 20:\n",
    "        \n",
    "        curr_player_results = np.zeros((1,players))\n",
    "        \n",
    "        dealer_hand = []\n",
    "        player_hands = [[] for player in range(players)]\n",
    "        # Deal FIRST card\n",
    "        for player, hand in enumerate(player_hands):\n",
    "            player_hands[player].append(dealer_cards.pop(0))\n",
    "        dealer_hand.append(dealer_cards.pop(0))\n",
    "        # Deal SECOND card\n",
    "        for player, hand in enumerate(player_hands):\n",
    "            player_hands[player].append(dealer_cards.pop(0))\n",
    "        dealer_hand.append(dealer_cards.pop(0))"
   ]
  },
  {
   "cell_type": "code",
   "execution_count": 14,
   "metadata": {},
   "outputs": [],
   "source": [
    "# Dealer checks for 21\n",
    "if set(dealer_hand) == blackjack:\n",
    "    for player in range(players):\n",
    "        if set(player_hands[player]) != blackjack:\n",
    "            curr_player_results[0,player] = -1\n",
    "        else:\n",
    "            curr_player_results[0,player] = 0\n",
    "else:\n",
    "    for player in range(players):\n",
    "                # Players check for 21\n",
    "        if set(player_hands[player]) == blackjack:\n",
    "                    curr_player_results[0,player] = 1\n",
    "        else:\n",
    "                    # Hit randomly, check for busts\n",
    "            while (random.random() >= 0.5) and \\\n",
    "                    (total_up(player_hands[player]) <= 11):\n",
    "                        player_hands[player].append]\n",
    "                        (dealer_cards.pop(0))\n",
    "                if total_up(player_hands[player]) > 21:\n",
    "                    curr_player_results[0,player] = -1\n",
    "                    break"
   ]
  },
  {
   "cell_type": "code",
   "execution_count": 15,
   "metadata": {},
   "outputs": [
    {
     "ename": "SyntaxError",
     "evalue": "invalid syntax (<ipython-input-15-b16e70b58807>, line 1)",
     "output_type": "error",
     "traceback": [
      "\u001b[0;36m  File \u001b[0;32m\"<ipython-input-15-b16e70b58807>\"\u001b[0;36m, line \u001b[0;32m1\u001b[0m\n\u001b[0;31m    else:\u001b[0m\n\u001b[0m       ^\u001b[0m\n\u001b[0;31mSyntaxError\u001b[0m\u001b[0;31m:\u001b[0m invalid syntax\n"
     ]
    }
   ],
   "source": []
  },
  {
   "cell_type": "code",
   "execution_count": null,
   "metadata": {},
   "outputs": [],
   "source": []
  }
 ],
 "metadata": {
  "kernelspec": {
   "display_name": "Python 3",
   "language": "python",
   "name": "python3"
  },
  "language_info": {
   "codemirror_mode": {
    "name": "ipython",
    "version": 3
   },
   "file_extension": ".py",
   "mimetype": "text/x-python",
   "name": "python",
   "nbconvert_exporter": "python",
   "pygments_lexer": "ipython3",
   "version": "3.7.4"
  }
 },
 "nbformat": 4,
 "nbformat_minor": 2
}
